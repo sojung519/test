{
  "nbformat": 4,
  "nbformat_minor": 0,
  "metadata": {
    "colab": {
      "provenance": [],
      "authorship_tag": "ABX9TyOSSGVidPndhVR4T21vsWdz",
      "include_colab_link": true
    },
    "kernelspec": {
      "name": "ir",
      "display_name": "R"
    },
    "language_info": {
      "name": "R"
    }
  },
  "cells": [
    {
      "cell_type": "markdown",
      "metadata": {
        "id": "view-in-github",
        "colab_type": "text"
      },
      "source": [
        "<a href=\"https://colab.research.google.com/github/sojung519/test/blob/main/testcode.ipynb\" target=\"_parent\"><img src=\"https://colab.research.google.com/assets/colab-badge.svg\" alt=\"Open In Colab\"/></a>"
      ]
    },
    {
      "cell_type": "code",
      "execution_count": null,
      "metadata": {
        "id": "pJyXkUbAmJwV"
      },
      "outputs": [],
      "source": [
        "system(\"gdown -- id 1eR2CEF4p5h4IkQ_sTw-m5-2Nqs9Dmry2\")\n"
      ]
    },
    {
      "cell_type": "markdown",
      "source": [
        "# 설명\n",
        "\n",
        "자잘한 설명들\n",
        "\n",
        "- 하나\n",
        "- 둘\n",
        "- 셋\n",
        "\n",
        "\n",
        "$$ x\\equiv a \\pmod{b} $$\n",
        "\n"
      ],
      "metadata": {
        "id": "bNL0tx0b61OU"
      }
    }
  ]
}